{
 "cells": [
  {
   "cell_type": "code",
   "execution_count": null,
   "metadata": {},
   "outputs": [
    {
     "name": "stdout",
     "output_type": "stream",
     "text": [
      "not ok\n"
     ]
    }
   ],
   "source": [
    "from neo4j import GraphDatabase # FOR AIRFLOW\n",
    "\n",
    "\n",
    "NEO4J_USER = \"neo4j\"\n",
    "NEO4J_URI = \"bolt://172.17.0.2:7687\" ## ip drom docker \n",
    "NEO4J_PASSWORD = \"internet\"\n",
    "\n",
    "### IF AIRFLOW NOT WORKING, USE THIS SAVE FINAL FILE TO AIRFLOW import folder and Load from there or SETUP the localhost situation like in graph_db.ipynb\n",
    "#neo4j_driver = GraphDatabase.driver(NEO4J_URI, auth=(NEO4J_USER, NEO4J_PASSWORD))\n",
    "graph = GraphDatabase.driver(\"bolt://localhost:11005\", auth=(\"neo4j\", \"internet_memes\"))\n",
    "\n",
    "with graph.session(database=\"neo4j\") as session:\n",
    "\n",
    "\n",
    "    try:\n",
    "        cypher_query = \"Match () Return 1 Limit 1\"\n",
    "        result = session.run(cypher_query)\n",
    "        print(\"ok\")\n",
    "    except: \n",
    "        print(\"not ok\")\n"
   ]
  },
  {
   "cell_type": "markdown",
   "metadata": {},
   "source": [
    "The NEO4J run on a locally set up server "
   ]
  },
  {
   "cell_type": "code",
   "execution_count": 6,
   "metadata": {},
   "outputs": [
    {
     "name": "stdout",
     "output_type": "stream",
     "text": [
      "ok\n"
     ]
    }
   ],
   "source": [
    "from py2neo import Graph\n",
    "\n",
    "graph = Graph(\"bolt://localhost:11005\", auth=(\"neo4j\", \"internet_memes\"))\n",
    "## checking if the server is up and running \n",
    "try:\n",
    "    graph.run(\"Match () Return 1 Limit 1\")\n",
    "    print('ok')\n",
    "except Exception:\n",
    "    print('not ok')\n"
   ]
  },
  {
   "cell_type": "code",
   "execution_count": 7,
   "metadata": {},
   "outputs": [
    {
     "data": {
      "text/html": [
       "<div>\n",
       "<style scoped>\n",
       "    .dataframe tbody tr th:only-of-type {\n",
       "        vertical-align: middle;\n",
       "    }\n",
       "\n",
       "    .dataframe tbody tr th {\n",
       "        vertical-align: top;\n",
       "    }\n",
       "\n",
       "    .dataframe thead th {\n",
       "        text-align: right;\n",
       "    }\n",
       "</style>\n",
       "<table border=\"1\" class=\"dataframe\">\n",
       "  <thead>\n",
       "    <tr style=\"text-align: right;\">\n",
       "      <th></th>\n",
       "      <th>title</th>\n",
       "      <th>url</th>\n",
       "      <th>views</th>\n",
       "      <th>author</th>\n",
       "      <th>updater</th>\n",
       "      <th>added</th>\n",
       "      <th>updated</th>\n",
       "      <th>year</th>\n",
       "      <th>has_relations</th>\n",
       "      <th>has_other_texts</th>\n",
       "      <th>...</th>\n",
       "      <th>has_DBpedia</th>\n",
       "      <th>status</th>\n",
       "      <th>adult</th>\n",
       "      <th>medical</th>\n",
       "      <th>racy</th>\n",
       "      <th>spoof</th>\n",
       "      <th>violence</th>\n",
       "      <th>template_image_url</th>\n",
       "      <th>fb_image_url</th>\n",
       "      <th>meme_name</th>\n",
       "    </tr>\n",
       "  </thead>\n",
       "  <tbody>\n",
       "    <tr>\n",
       "      <th>0</th>\n",
       "      <td>This is Relevant To My Interests</td>\n",
       "      <td>https://knowyourmeme.com/memes/this-is-relevan...</td>\n",
       "      <td>136103</td>\n",
       "      <td>jamie-dubs</td>\n",
       "      <td>sophie--8</td>\n",
       "      <td>2008-12-12</td>\n",
       "      <td>2019-01-09</td>\n",
       "      <td>2006</td>\n",
       "      <td>False</td>\n",
       "      <td>True</td>\n",
       "      <td>...</td>\n",
       "      <td>False</td>\n",
       "      <td>confirmed</td>\n",
       "      <td>VERY_UNLIKELY</td>\n",
       "      <td>VERY_UNLIKELY</td>\n",
       "      <td>VERY_UNLIKELY</td>\n",
       "      <td>VERY_LIKELY</td>\n",
       "      <td>UNLIKELY</td>\n",
       "      <td>https://i.kym-cdn.com/entries/icons/original/0...</td>\n",
       "      <td>https://i.kym-cdn.com/entries/icons/facebook/0...</td>\n",
       "      <td>this-is-relevant-to-my-interests</td>\n",
       "    </tr>\n",
       "    <tr>\n",
       "      <th>1</th>\n",
       "      <td>ROFLcopter</td>\n",
       "      <td>https://knowyourmeme.com/memes/roflcopter</td>\n",
       "      <td>537218</td>\n",
       "      <td>jamie-dubs</td>\n",
       "      <td>13acab12</td>\n",
       "      <td>2008-12-12</td>\n",
       "      <td>2020-06-06</td>\n",
       "      <td>2004</td>\n",
       "      <td>True</td>\n",
       "      <td>True</td>\n",
       "      <td>...</td>\n",
       "      <td>True</td>\n",
       "      <td>confirmed</td>\n",
       "      <td>VERY_UNLIKELY</td>\n",
       "      <td>VERY_UNLIKELY</td>\n",
       "      <td>VERY_UNLIKELY</td>\n",
       "      <td>POSSIBLE</td>\n",
       "      <td>VERY_UNLIKELY</td>\n",
       "      <td>https://i.kym-cdn.com/entries/icons/original/0...</td>\n",
       "      <td>https://i.kym-cdn.com/entries/icons/facebook/0...</td>\n",
       "      <td>roflcopter</td>\n",
       "    </tr>\n",
       "    <tr>\n",
       "      <th>2</th>\n",
       "      <td>Leave Britney Alone</td>\n",
       "      <td>https://knowyourmeme.com/memes/leave-britney-a...</td>\n",
       "      <td>211104</td>\n",
       "      <td>jamie-dubs</td>\n",
       "      <td>andcallmeshirley</td>\n",
       "      <td>2008-12-12</td>\n",
       "      <td>2021-02-12</td>\n",
       "      <td>2007</td>\n",
       "      <td>False</td>\n",
       "      <td>True</td>\n",
       "      <td>...</td>\n",
       "      <td>True</td>\n",
       "      <td>confirmed</td>\n",
       "      <td>UNLIKELY</td>\n",
       "      <td>UNLIKELY</td>\n",
       "      <td>UNLIKELY</td>\n",
       "      <td>LIKELY</td>\n",
       "      <td>UNLIKELY</td>\n",
       "      <td>https://i.kym-cdn.com/entries/icons/original/0...</td>\n",
       "      <td>https://i.kym-cdn.com/entries/icons/facebook/0...</td>\n",
       "      <td>leave-britney-alone</td>\n",
       "    </tr>\n",
       "    <tr>\n",
       "      <th>3</th>\n",
       "      <td>O RLY?</td>\n",
       "      <td>https://knowyourmeme.com/memes/o-rly</td>\n",
       "      <td>1069521</td>\n",
       "      <td>longcat</td>\n",
       "      <td>andcallmeshirley</td>\n",
       "      <td>2008-12-12</td>\n",
       "      <td>2021-11-22</td>\n",
       "      <td>2003</td>\n",
       "      <td>True</td>\n",
       "      <td>True</td>\n",
       "      <td>...</td>\n",
       "      <td>True</td>\n",
       "      <td>confirmed</td>\n",
       "      <td>VERY_UNLIKELY</td>\n",
       "      <td>UNLIKELY</td>\n",
       "      <td>VERY_UNLIKELY</td>\n",
       "      <td>VERY_LIKELY</td>\n",
       "      <td>POSSIBLE</td>\n",
       "      <td>https://i.kym-cdn.com/entries/icons/original/0...</td>\n",
       "      <td>https://i.kym-cdn.com/entries/icons/facebook/0...</td>\n",
       "      <td>o-rly</td>\n",
       "    </tr>\n",
       "    <tr>\n",
       "      <th>4</th>\n",
       "      <td>Yatta!</td>\n",
       "      <td>https://knowyourmeme.com/memes/yatta</td>\n",
       "      <td>41057</td>\n",
       "      <td>toddpersen</td>\n",
       "      <td>twenty-one</td>\n",
       "      <td>2009-02-18</td>\n",
       "      <td>2018-07-18</td>\n",
       "      <td>2001</td>\n",
       "      <td>False</td>\n",
       "      <td>True</td>\n",
       "      <td>...</td>\n",
       "      <td>True</td>\n",
       "      <td>confirmed</td>\n",
       "      <td>POSSIBLE</td>\n",
       "      <td>VERY_UNLIKELY</td>\n",
       "      <td>POSSIBLE</td>\n",
       "      <td>VERY_UNLIKELY</td>\n",
       "      <td>VERY_UNLIKELY</td>\n",
       "      <td>https://i.kym-cdn.com/entries/icons/original/0...</td>\n",
       "      <td>https://i.kym-cdn.com/entries/icons/facebook/0...</td>\n",
       "      <td>yatta</td>\n",
       "    </tr>\n",
       "  </tbody>\n",
       "</table>\n",
       "<p>5 rows × 21 columns</p>\n",
       "</div>"
      ],
      "text/plain": [
       "                              title  \\\n",
       "0  This is Relevant To My Interests   \n",
       "1                        ROFLcopter   \n",
       "2               Leave Britney Alone   \n",
       "3                            O RLY?   \n",
       "4                            Yatta!   \n",
       "\n",
       "                                                 url    views      author  \\\n",
       "0  https://knowyourmeme.com/memes/this-is-relevan...   136103  jamie-dubs   \n",
       "1          https://knowyourmeme.com/memes/roflcopter   537218  jamie-dubs   \n",
       "2  https://knowyourmeme.com/memes/leave-britney-a...   211104  jamie-dubs   \n",
       "3               https://knowyourmeme.com/memes/o-rly  1069521     longcat   \n",
       "4               https://knowyourmeme.com/memes/yatta    41057  toddpersen   \n",
       "\n",
       "            updater       added     updated  year  has_relations  \\\n",
       "0         sophie--8  2008-12-12  2019-01-09  2006          False   \n",
       "1          13acab12  2008-12-12  2020-06-06  2004           True   \n",
       "2  andcallmeshirley  2008-12-12  2021-02-12  2007          False   \n",
       "3  andcallmeshirley  2008-12-12  2021-11-22  2003           True   \n",
       "4        twenty-one  2009-02-18  2018-07-18  2001          False   \n",
       "\n",
       "   has_other_texts  ...  has_DBpedia     status          adult        medical  \\\n",
       "0             True  ...        False  confirmed  VERY_UNLIKELY  VERY_UNLIKELY   \n",
       "1             True  ...         True  confirmed  VERY_UNLIKELY  VERY_UNLIKELY   \n",
       "2             True  ...         True  confirmed       UNLIKELY       UNLIKELY   \n",
       "3             True  ...         True  confirmed  VERY_UNLIKELY       UNLIKELY   \n",
       "4             True  ...         True  confirmed       POSSIBLE  VERY_UNLIKELY   \n",
       "\n",
       "            racy          spoof       violence  \\\n",
       "0  VERY_UNLIKELY    VERY_LIKELY       UNLIKELY   \n",
       "1  VERY_UNLIKELY       POSSIBLE  VERY_UNLIKELY   \n",
       "2       UNLIKELY         LIKELY       UNLIKELY   \n",
       "3  VERY_UNLIKELY    VERY_LIKELY       POSSIBLE   \n",
       "4       POSSIBLE  VERY_UNLIKELY  VERY_UNLIKELY   \n",
       "\n",
       "                                  template_image_url  \\\n",
       "0  https://i.kym-cdn.com/entries/icons/original/0...   \n",
       "1  https://i.kym-cdn.com/entries/icons/original/0...   \n",
       "2  https://i.kym-cdn.com/entries/icons/original/0...   \n",
       "3  https://i.kym-cdn.com/entries/icons/original/0...   \n",
       "4  https://i.kym-cdn.com/entries/icons/original/0...   \n",
       "\n",
       "                                        fb_image_url  \\\n",
       "0  https://i.kym-cdn.com/entries/icons/facebook/0...   \n",
       "1  https://i.kym-cdn.com/entries/icons/facebook/0...   \n",
       "2  https://i.kym-cdn.com/entries/icons/facebook/0...   \n",
       "3  https://i.kym-cdn.com/entries/icons/facebook/0...   \n",
       "4  https://i.kym-cdn.com/entries/icons/facebook/0...   \n",
       "\n",
       "                          meme_name  \n",
       "0  this-is-relevant-to-my-interests  \n",
       "1                        roflcopter  \n",
       "2               leave-britney-alone  \n",
       "3                             o-rly  \n",
       "4                             yatta  \n",
       "\n",
       "[5 rows x 21 columns]"
      ]
     },
     "execution_count": 7,
     "metadata": {},
     "output_type": "execute_result"
    }
   ],
   "source": [
    "import pandas as pd \n",
    "import numpy as np\n",
    "# reading it in from cleaned data\n",
    "main_df = pd.read_csv(\"/home/marilin/Documents/Data engineering/data_project/main.csv\", encoding='utf-8', index_col=False)\n",
    "main_df = main_df.dropna()\n",
    "del main_df[\"description\"]\n",
    "lst = []\n",
    "for link in list(main_df[\"url\"]):\n",
    "    lst.append(link.split(\"/\")[-1])\n",
    "main_df[\"meme_name\"] = lst\n",
    "\n",
    "main_df.to_csv(\"/home/marilin/.config/Neo4j Desktop/Application/relate-data/dbmss/dbms-fc4db720-e397-4b7a-a229-692d78772748/import/main.csv\", encoding='utf-8', index=False)\n",
    "\n",
    "main_df.head()\n"
   ]
  },
  {
   "cell_type": "code",
   "execution_count": 9,
   "metadata": {},
   "outputs": [],
   "source": [
    "import pandas as pd \n",
    "relations_df = pd.read_csv(\"/home/marilin/Documents/Data engineering/data_project/relations.csv\", encoding='utf-8') \n",
    "relations_df = relations_df.rename(columns={'Unnamed: 0': 'meme_name'})\n",
    "# replacing nan with unknown\n",
    "relations_df = relations_df.fillna(\"unknown\")\n",
    "del relations_df[\"children\"]\n",
    "\n",
    "memes = relations_df[\"meme_name\"].tolist()\n",
    "siblings = relations_df[\"siblings\"].tolist()\n",
    "parents = relations_df[\"parent\"].tolist()\n",
    "\n",
    "meme_col, sib_col, p_col = [], [], []\n",
    "\n",
    "for i, meme in enumerate(memes):\n",
    "\n",
    "    meme_labels = siblings[i].strip(\"[]'\").split(\"', '\")\n",
    "\n",
    "\n",
    "    for j in range(min(5, len(meme_labels))):\n",
    "        p_col.append(parents[i])\n",
    "        meme_col.append(meme)\n",
    "        sib_col.append(meme_labels[j])\n",
    "\n",
    "\n",
    "mfa = pd.DataFrame()\n",
    "mfa[\"meme_name\"] = meme_col\n",
    "mfa[\"parent\"] = p_col\n",
    "mfa[\"siblings\"] = sib_col\n",
    "\n",
    "mfa.head()\n",
    "mfa.to_csv(\"/home/marilin/.config/Neo4j Desktop/Application/relate-data/dbmss/dbms-fc4db720-e397-4b7a-a229-692d78772748/import/relations.csv\", encoding='utf-8', index=False)"
   ]
  },
  {
   "cell_type": "code",
   "execution_count": 15,
   "metadata": {},
   "outputs": [
    {
     "data": {
      "text/html": [
       "<div>\n",
       "<style scoped>\n",
       "    .dataframe tbody tr th:only-of-type {\n",
       "        vertical-align: middle;\n",
       "    }\n",
       "\n",
       "    .dataframe tbody tr th {\n",
       "        vertical-align: top;\n",
       "    }\n",
       "\n",
       "    .dataframe thead th {\n",
       "        text-align: right;\n",
       "    }\n",
       "</style>\n",
       "<table border=\"1\" class=\"dataframe\">\n",
       "  <thead>\n",
       "    <tr style=\"text-align: right;\">\n",
       "      <th></th>\n",
       "      <th>meme_name</th>\n",
       "      <th>parent</th>\n",
       "      <th>siblings</th>\n",
       "    </tr>\n",
       "  </thead>\n",
       "  <tbody>\n",
       "    <tr>\n",
       "      <th>0</th>\n",
       "      <td>roflcopter</td>\n",
       "      <td>lol-ascii</td>\n",
       "      <td>lollerskates</td>\n",
       "    </tr>\n",
       "    <tr>\n",
       "      <th>1</th>\n",
       "      <td>roflcopter</td>\n",
       "      <td>lol-ascii</td>\n",
       "      <td>roflcopter</td>\n",
       "    </tr>\n",
       "    <tr>\n",
       "      <th>2</th>\n",
       "      <td>o-rly</td>\n",
       "      <td>unknown</td>\n",
       "      <td>an-hero</td>\n",
       "    </tr>\n",
       "    <tr>\n",
       "      <th>3</th>\n",
       "      <td>o-rly</td>\n",
       "      <td>unknown</td>\n",
       "      <td>butthurt</td>\n",
       "    </tr>\n",
       "    <tr>\n",
       "      <th>4</th>\n",
       "      <td>o-rly</td>\n",
       "      <td>unknown</td>\n",
       "      <td>do-it-faggot</td>\n",
       "    </tr>\n",
       "  </tbody>\n",
       "</table>\n",
       "</div>"
      ],
      "text/plain": [
       "    meme_name     parent      siblings\n",
       "0  roflcopter  lol-ascii  lollerskates\n",
       "1  roflcopter  lol-ascii    roflcopter\n",
       "2       o-rly    unknown       an-hero\n",
       "3       o-rly    unknown      butthurt\n",
       "4       o-rly    unknown  do-it-faggot"
      ]
     },
     "execution_count": 15,
     "metadata": {},
     "output_type": "execute_result"
    }
   ],
   "source": [
    "mfa.head()"
   ]
  },
  {
   "cell_type": "code",
   "execution_count": 10,
   "metadata": {},
   "outputs": [],
   "source": [
    "imgrec_df = pd.read_csv(\"/home/marilin/Documents/Data engineering/data_project/img_rec.csv\", encoding='utf-8')\n",
    "imgrec_df = imgrec_df.rename(columns={'Unnamed: 0': 'meme_name'})\n",
    "imgrec_df = imgrec_df.fillna(\"unknown\")\n",
    "\n",
    "memes = imgrec_df[\"meme_name\"].tolist()\n",
    "labels = imgrec_df['image_recogn_labels'].tolist()\n",
    "\n",
    "meme_col, label_col = [], []\n",
    "\n",
    "for i, meme in enumerate(memes):\n",
    "    meme_labels = labels[i].strip(\"[]'\").split(\"', '\")\n",
    "\n",
    "    for j in range(min(5, len(meme_labels))):\n",
    "        meme_col.append(meme)\n",
    "        label_col.append(meme_labels[j])\n",
    "\n",
    "\n",
    "mf = pd.DataFrame()\n",
    "mf[\"meme_name\"] = meme_col\n",
    "mf[\"image_recogn_labels\"] = label_col\n",
    "\n",
    "mf.to_csv(\"/home/marilin/.config/Neo4j Desktop/Application/relate-data/dbmss/dbms-fc4db720-e397-4b7a-a229-692d78772748/import/img_rec.csv\", encoding='utf-8', index=False)"
   ]
  },
  {
   "cell_type": "code",
   "execution_count": 11,
   "metadata": {},
   "outputs": [],
   "source": [
    "query_main = \"\"\"\n",
    "LOAD CSV WITH HEADERS FROM \"file:///main.csv\" AS csvLine \n",
    "MERGE (m:Meme_name {meme_name:csvLine.meme_name, url:csvLine.url, views:toInteger(csvLine.views)})\n",
    "MERGE (a:Meme_author {name: csvLine.author})\n",
    "MERGE (r:Recent_update {updated: csvLine.updated})\n",
    "MERGE (t:Meme_template {template_image: csvLine.template_image_url})\n",
    "CREATE (m)-[:IS_CREATED_BY]->(a), (m)-[:BASED_ON]->(t), (m)-[:RECENTLY_UPDATED_ON]->(r)\n",
    "\"\"\""
   ]
  },
  {
   "cell_type": "code",
   "execution_count": 12,
   "metadata": {},
   "outputs": [
    {
     "data": {
      "text/html": [
       "(No data)"
      ],
      "text/plain": [
       "(No data)"
      ]
     },
     "execution_count": 12,
     "metadata": {},
     "output_type": "execute_result"
    }
   ],
   "source": [
    "graph.run(query_main)"
   ]
  },
  {
   "cell_type": "code",
   "execution_count": 16,
   "metadata": {},
   "outputs": [],
   "source": [
    "query_relations = \"\"\"\n",
    "LOAD CSV WITH HEADERS FROM \"file:///relations.csv\" AS csvLine\n",
    "MERGE (p:Parent {parent_name: csvLine.parent})\n",
    "MERGE (s:Siblings {siblings: csvLine.siblings})\n",
    "MERGE (m:Meme_name {meme_name:csvLine.meme_name})\n",
    "CREATE (m)-[:IS_CHILD_OF]->(p), (m)-[:IS_RELATED_TO]->(s);\n",
    "\"\"\""
   ]
  },
  {
   "cell_type": "code",
   "execution_count": 17,
   "metadata": {},
   "outputs": [
    {
     "data": {
      "text/html": [
       "(No data)"
      ],
      "text/plain": [
       "(No data)"
      ]
     },
     "execution_count": 17,
     "metadata": {},
     "output_type": "execute_result"
    }
   ],
   "source": [
    "graph.run(query_relations)"
   ]
  },
  {
   "cell_type": "code",
   "execution_count": 18,
   "metadata": {},
   "outputs": [],
   "source": [
    "query_img = \"\"\"\n",
    "LOAD CSV WITH HEADERS FROM \"file:///img_rec.csv\" AS csvLine\n",
    "MERGE (m:Meme_name {meme_name:csvLine.meme_name})\n",
    "MERGE (i: image_recogn_labels{image_label_name:csvLine.image_recogn_labels})\n",
    "CREATE (m)-[:CONTAINS]->(i);\n",
    "\"\"\""
   ]
  },
  {
   "cell_type": "code",
   "execution_count": 19,
   "metadata": {},
   "outputs": [],
   "source": [
    "graph.run(query_img)"
   ]
  },
  {
   "cell_type": "code",
   "execution_count": 118,
   "metadata": {},
   "outputs": [],
   "source": [
    "#### THIS IS THE END\n",
    "\n",
    "sim_df = pd.read_csv(\"/home/marilin/Documents/Data engineering/data_project/sim_img.csv\", encoding='utf-8')\n",
    "sim_df = sim_df.rename(columns={'Unnamed: 0': 'meme_name'})\n",
    "sim_df = sim_df.fillna(\"unknown\")\n",
    "# saving to neo4j local folder \n",
    "sim_df.to_csv(\"/home/marilin/.config/Neo4j Desktop/Application/relate-data/dbmss/dbms-fc4db720-e397-4b7a-a229-692d78772748/import/sim_img.csv\", encoding='utf-8', index=False)"
   ]
  },
  {
   "cell_type": "code",
   "execution_count": 119,
   "metadata": {},
   "outputs": [
    {
     "data": {
      "text/html": [
       "<div>\n",
       "<style scoped>\n",
       "    .dataframe tbody tr th:only-of-type {\n",
       "        vertical-align: middle;\n",
       "    }\n",
       "\n",
       "    .dataframe tbody tr th {\n",
       "        vertical-align: top;\n",
       "    }\n",
       "\n",
       "    .dataframe thead th {\n",
       "        text-align: right;\n",
       "    }\n",
       "</style>\n",
       "<table border=\"1\" class=\"dataframe\">\n",
       "  <thead>\n",
       "    <tr style=\"text-align: right;\">\n",
       "      <th></th>\n",
       "      <th>meme_name</th>\n",
       "      <th>similar_images_all</th>\n",
       "    </tr>\n",
       "  </thead>\n",
       "  <tbody>\n",
       "    <tr>\n",
       "      <th>0</th>\n",
       "      <td>this-is-relevant-to-my-interests</td>\n",
       "      <td>['https://i.kym-cdn.com/photos/images/newsfeed...</td>\n",
       "    </tr>\n",
       "    <tr>\n",
       "      <th>1</th>\n",
       "      <td>roflcopter</td>\n",
       "      <td>['https://i.kym-cdn.com/photos/images/newsfeed...</td>\n",
       "    </tr>\n",
       "    <tr>\n",
       "      <th>2</th>\n",
       "      <td>leave-britney-alone</td>\n",
       "      <td>unknown</td>\n",
       "    </tr>\n",
       "    <tr>\n",
       "      <th>3</th>\n",
       "      <td>o-rly</td>\n",
       "      <td>['https://i.kym-cdn.com/photos/images/newsfeed...</td>\n",
       "    </tr>\n",
       "    <tr>\n",
       "      <th>4</th>\n",
       "      <td>yatta</td>\n",
       "      <td>unknown</td>\n",
       "    </tr>\n",
       "  </tbody>\n",
       "</table>\n",
       "</div>"
      ],
      "text/plain": [
       "                          meme_name  \\\n",
       "0  this-is-relevant-to-my-interests   \n",
       "1                        roflcopter   \n",
       "2               leave-britney-alone   \n",
       "3                             o-rly   \n",
       "4                             yatta   \n",
       "\n",
       "                                  similar_images_all  \n",
       "0  ['https://i.kym-cdn.com/photos/images/newsfeed...  \n",
       "1  ['https://i.kym-cdn.com/photos/images/newsfeed...  \n",
       "2                                            unknown  \n",
       "3  ['https://i.kym-cdn.com/photos/images/newsfeed...  \n",
       "4                                            unknown  "
      ]
     },
     "execution_count": 119,
     "metadata": {},
     "output_type": "execute_result"
    }
   ],
   "source": [
    "sim_df.head()"
   ]
  },
  {
   "cell_type": "code",
   "execution_count": 124,
   "metadata": {},
   "outputs": [],
   "source": [
    "query_sim = \"\"\"\n",
    "LOAD CSV WITH HEADERS FROM \"file:///sim_img.csv\" AS csvLine \n",
    "\n",
    "MERGE (p:Similar_images {similar_images: csvLine.similar_images_all})\n",
    "MERGE (m:Meme_name {meme_name:csvLine.meme_name})\n",
    "CREATE (m)-[:IS_SIMILAR_TO_FOREIGN_LINK]->(p);\n",
    "\"\"\""
   ]
  },
  {
   "cell_type": "code",
   "execution_count": 125,
   "metadata": {},
   "outputs": [
    {
     "data": {
      "text/html": [
       "(No data)"
      ],
      "text/plain": [
       "(No data)"
      ]
     },
     "execution_count": 125,
     "metadata": {},
     "output_type": "execute_result"
    }
   ],
   "source": [
    "graph.run(query_sim)"
   ]
  },
  {
   "cell_type": "code",
   "execution_count": 127,
   "metadata": {},
   "outputs": [
    {
     "data": {
      "text/html": [
       "<div>\n",
       "<style scoped>\n",
       "    .dataframe tbody tr th:only-of-type {\n",
       "        vertical-align: middle;\n",
       "    }\n",
       "\n",
       "    .dataframe tbody tr th {\n",
       "        vertical-align: top;\n",
       "    }\n",
       "\n",
       "    .dataframe thead th {\n",
       "        text-align: right;\n",
       "    }\n",
       "</style>\n",
       "<table border=\"1\" class=\"dataframe\">\n",
       "  <thead>\n",
       "    <tr style=\"text-align: right;\">\n",
       "      <th></th>\n",
       "      <th>meme_name</th>\n",
       "      <th>memes</th>\n",
       "      <th>scores</th>\n",
       "    </tr>\n",
       "  </thead>\n",
       "  <tbody>\n",
       "    <tr>\n",
       "      <th>0</th>\n",
       "      <td>Health care provider</td>\n",
       "      <td>['thats-wicked-%E3%83%9E%E3%82%B8%E3%82%84%E3%...</td>\n",
       "      <td>['0.93678385, 0.5965857']</td>\n",
       "    </tr>\n",
       "    <tr>\n",
       "      <th>1</th>\n",
       "      <td>Halictidae</td>\n",
       "      <td>['petty-kobe-bryant']</td>\n",
       "      <td>['0.6376406']</td>\n",
       "    </tr>\n",
       "    <tr>\n",
       "      <th>2</th>\n",
       "      <td>Squeezebox</td>\n",
       "      <td>['poorfag-chan']</td>\n",
       "      <td>['0.8893292500000001']</td>\n",
       "    </tr>\n",
       "    <tr>\n",
       "      <th>3</th>\n",
       "      <td>Sitting</td>\n",
       "      <td>['zergface', 'zac-efrons-baywatch-faceplant', ...</td>\n",
       "      <td>['0.71677357, 0.71657026, 0.715113, 0.71499039...</td>\n",
       "    </tr>\n",
       "    <tr>\n",
       "      <th>4</th>\n",
       "      <td>Python</td>\n",
       "      <td>['beta-uprising']</td>\n",
       "      <td>['0.7320513']</td>\n",
       "    </tr>\n",
       "  </tbody>\n",
       "</table>\n",
       "</div>"
      ],
      "text/plain": [
       "              meme_name                                              memes  \\\n",
       "0  Health care provider  ['thats-wicked-%E3%83%9E%E3%82%B8%E3%82%84%E3%...   \n",
       "1            Halictidae                              ['petty-kobe-bryant']   \n",
       "2            Squeezebox                                   ['poorfag-chan']   \n",
       "3               Sitting  ['zergface', 'zac-efrons-baywatch-faceplant', ...   \n",
       "4                Python                                  ['beta-uprising']   \n",
       "\n",
       "                                              scores  \n",
       "0                          ['0.93678385, 0.5965857']  \n",
       "1                                      ['0.6376406']  \n",
       "2                             ['0.8893292500000001']  \n",
       "3  ['0.71677357, 0.71657026, 0.715113, 0.71499039...  \n",
       "4                                      ['0.7320513']  "
      ]
     },
     "execution_count": 127,
     "metadata": {},
     "output_type": "execute_result"
    }
   ],
   "source": [
    "vis_df = pd.read_csv(\"/home/marilin/Documents/Data engineering/data_project/vision.csv\", encoding='utf-8')\n",
    "vis_df = vis_df.rename(columns={'Unnamed: 0': 'meme_name'})\n",
    "vis_df = vis_df.fillna(\"unknown\")\n",
    "vis_df.to_csv(\"/home/marilin/.config/Neo4j Desktop/Application/relate-data/dbmss/dbms-fc4db720-e397-4b7a-a229-692d78772748/import/vision.csv\", encoding='utf-8', index=False)\n",
    "vis_df.head()"
   ]
  },
  {
   "cell_type": "code",
   "execution_count": null,
   "metadata": {},
   "outputs": [],
   "source": []
  }
 ],
 "metadata": {
  "interpreter": {
   "hash": "31f2aee4e71d21fbe5cf8b01ff0e069b9275f58929596ceb00d14d90e3e16cd6"
  },
  "kernelspec": {
   "display_name": "Python 3.8.10 64-bit",
   "name": "python3"
  },
  "language_info": {
   "codemirror_mode": {
    "name": "ipython",
    "version": 3
   },
   "file_extension": ".py",
   "mimetype": "text/x-python",
   "name": "python",
   "nbconvert_exporter": "python",
   "pygments_lexer": "ipython3",
   "version": "3.8.10"
  },
  "orig_nbformat": 4
 },
 "nbformat": 4,
 "nbformat_minor": 2
}
